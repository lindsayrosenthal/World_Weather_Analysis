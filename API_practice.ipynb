{
 "cells": [
  {
   "cell_type": "code",
   "execution_count": 1,
   "id": "e18a0468",
   "metadata": {},
   "outputs": [],
   "source": [
    "# Create a practice set of random latitude and longitude combinations.\n",
    "x = [25.12903645, 25.92017388, 26.62509167, -59.98969384, 37.30571269]\n",
    "y = [-67.59741259, 11.09532135, 74.84233102, -76.89176677, -61.13376282]\n",
    "coordinates = zip(x, y)"
   ]
  },
  {
   "cell_type": "code",
   "execution_count": 2,
   "id": "30e81c28",
   "metadata": {},
   "outputs": [
    {
     "name": "stdout",
     "output_type": "stream",
     "text": [
      "25.12903645 -67.59741259\n",
      "25.92017388 11.09532135\n",
      "26.62509167 74.84233102\n",
      "-59.98969384 -76.89176677\n",
      "37.30571269 -61.13376282\n"
     ]
    }
   ],
   "source": [
    "for coordinate in coordinates:\n",
    "    print(coordinate[0], coordinate[1])"
   ]
  },
  {
   "cell_type": "code",
   "execution_count": 7,
   "id": "379ae8f2",
   "metadata": {},
   "outputs": [
    {
     "name": "stdout",
     "output_type": "stream",
     "text": [
      "Requirement already satisfied: citipy in /Users/lindsayrosenthal/opt/anaconda3/lib/python3.9/site-packages (0.0.5)\n",
      "Requirement already satisfied: kdtree>=0.12 in /Users/lindsayrosenthal/opt/anaconda3/lib/python3.9/site-packages (from citipy) (0.16)\n",
      "Note: you may need to restart the kernel to use updated packages.\n"
     ]
    }
   ],
   "source": [
    "pip install citipy"
   ]
  },
  {
   "cell_type": "code",
   "execution_count": 8,
   "id": "eb1513bb",
   "metadata": {},
   "outputs": [],
   "source": [
    "# Use the citipy module to determine city based on latitude and longitude.\n",
    "from citipy import citipy"
   ]
  },
  {
   "cell_type": "code",
   "execution_count": 10,
   "id": "f04f1bb0",
   "metadata": {},
   "outputs": [],
   "source": [
    "# Use the tuple() function to display the latitude and longitude combinations.\n",
    "for coordinate in coordinates:\n",
    "    print(citipy.nearest_city(coordinate[0], coordinate[1]).city_name,\n",
    "          citipy.nearest_city(coordinate[0], coordinate[1]).country_code)"
   ]
  },
  {
   "cell_type": "code",
   "execution_count": 12,
   "id": "3a81b924",
   "metadata": {},
   "outputs": [],
   "source": [
    "# Import the requests library.\n",
    "import requests\n",
    "\n",
    "# Import the API key.\n",
    "from config import weather_api_key"
   ]
  },
  {
   "cell_type": "markdown",
   "id": "f29a7a5d",
   "metadata": {},
   "source": [
    "https://openweathermap.org/current"
   ]
  },
  {
   "cell_type": "code",
   "execution_count": 14,
   "id": "9f79b4a6",
   "metadata": {},
   "outputs": [],
   "source": [
    "# Starting URL for Weather Map API Call.\n",
    "url = \"http://api.openweathermap.org/data/2.5/weather?units=Imperial&APPID=\" + weather_api_key"
   ]
  },
  {
   "cell_type": "code",
   "execution_count": 15,
   "id": "b26ddf8d",
   "metadata": {},
   "outputs": [
    {
     "name": "stdout",
     "output_type": "stream",
     "text": [
      "http://api.openweathermap.org/data/2.5/weather?units=Imperial&APPID=9c4cf8bc2184621ecffcf1b53a505d31&q=Boston\n"
     ]
    }
   ],
   "source": [
    "# Create an endpoint URL for a city.\n",
    "city_url = url + \"&q=\" + \"Boston\""
   ]
  },
  {
   "cell_type": "code",
   "execution_count": 17,
   "id": "2bae88dd",
   "metadata": {},
   "outputs": [
    {
     "data": {
      "text/plain": [
       "200"
      ]
     },
     "execution_count": 17,
     "metadata": {},
     "output_type": "execute_result"
    }
   ],
   "source": [
    "# Make a 'Get' request for the city weather.\n",
    "city_weather = requests.get(city_url)\n",
    "city_weather.status_code"
   ]
  },
  {
   "cell_type": "code",
   "execution_count": 23,
   "id": "7fcd7272",
   "metadata": {},
   "outputs": [],
   "source": [
    "# Create an endpoint URL for a city.\n",
    "#city_url = url + \"&q=\" + \"Bston\"\n",
    "#city_weather = requests.get(city_url)\n",
    "#city_weather"
   ]
  },
  {
   "cell_type": "markdown",
   "id": "b4fb689b",
   "metadata": {},
   "source": [
    "If we tried to get weather data from an unrecognized city, or if the weather data for a city wasn't available, we would get a 404 response."
   ]
  },
  {
   "cell_type": "code",
   "execution_count": 24,
   "id": "20cbd936",
   "metadata": {},
   "outputs": [
    {
     "data": {
      "text/plain": [
       "<Response [200]>"
      ]
     },
     "execution_count": 24,
     "metadata": {},
     "output_type": "execute_result"
    }
   ],
   "source": [
    "# Create an endpoint URL for a city.\n",
    "city_url = url + \"&q=\" + \"Boston\"\n",
    "city_weather = requests.get(city_url)\n",
    "city_weather"
   ]
  },
  {
   "cell_type": "code",
   "execution_count": 25,
   "id": "1544ac3d",
   "metadata": {},
   "outputs": [
    {
     "data": {
      "text/plain": [
       "'{\"coord\":{\"lon\":-71.0598,\"lat\":42.3584},\"weather\":[{\"id\":804,\"main\":\"Clouds\",\"description\":\"overcast clouds\",\"icon\":\"04n\"}],\"base\":\"stations\",\"main\":{\"temp\":29.44,\"feels_like\":26.44,\"temp_min\":24.17,\"temp_max\":33.01,\"pressure\":1018,\"humidity\":68},\"visibility\":10000,\"wind\":{\"speed\":3,\"deg\":132,\"gust\":8.01},\"clouds\":{\"all\":100},\"dt\":1643418661,\"sys\":{\"type\":2,\"id\":2013408,\"country\":\"US\",\"sunrise\":1643371304,\"sunset\":1643406746},\"timezone\":-18000,\"id\":4930956,\"name\":\"Boston\",\"cod\":200}'"
      ]
     },
     "execution_count": 25,
     "metadata": {},
     "output_type": "execute_result"
    }
   ],
   "source": [
    "# Get the text of the 'Get' request.\n",
    "city_weather.text"
   ]
  },
  {
   "cell_type": "markdown",
   "id": "7d70958e",
   "metadata": {},
   "source": [
    "The text in the output is a dictionary of dictionaries and arrays, or a JSON file. We can work with this data, but it might be more challenging if we needed to retrieve temperature (temp) and humidity ( humidity) from this output because the data is in a sentence format."
   ]
  },
  {
   "cell_type": "code",
   "execution_count": 26,
   "id": "794a3ad0",
   "metadata": {},
   "outputs": [
    {
     "data": {
      "text/plain": [
       "{'coord': {'lon': -71.0598, 'lat': 42.3584},\n",
       " 'weather': [{'id': 804,\n",
       "   'main': 'Clouds',\n",
       "   'description': 'overcast clouds',\n",
       "   'icon': '04n'}],\n",
       " 'base': 'stations',\n",
       " 'main': {'temp': 29.44,\n",
       "  'feels_like': 26.44,\n",
       "  'temp_min': 24.17,\n",
       "  'temp_max': 33.01,\n",
       "  'pressure': 1018,\n",
       "  'humidity': 68},\n",
       " 'visibility': 10000,\n",
       " 'wind': {'speed': 3, 'deg': 132, 'gust': 8.01},\n",
       " 'clouds': {'all': 100},\n",
       " 'dt': 1643418661,\n",
       " 'sys': {'type': 2,\n",
       "  'id': 2013408,\n",
       "  'country': 'US',\n",
       "  'sunrise': 1643371304,\n",
       "  'sunset': 1643406746},\n",
       " 'timezone': -18000,\n",
       " 'id': 4930956,\n",
       " 'name': 'Boston',\n",
       " 'cod': 200}"
      ]
     },
     "execution_count": 26,
     "metadata": {},
     "output_type": "execute_result"
    }
   ],
   "source": [
    "# Get the JSON text of the 'Get' request.\n",
    "city_weather.json()"
   ]
  },
  {
   "cell_type": "markdown",
   "id": "54ae7c03",
   "metadata": {},
   "source": [
    "Handle Request Errors"
   ]
  },
  {
   "cell_type": "code",
   "execution_count": 41,
   "id": "c9836b06",
   "metadata": {},
   "outputs": [
    {
     "name": "stdout",
     "output_type": "stream",
     "text": [
      "City Weather found.\n"
     ]
    }
   ],
   "source": [
    "# Create an endpoint URL for a city.\n",
    "city_url = url + \"&q=\" + \"Boston\"\n",
    "city_weather = requests.get(city_url)\n",
    "if city_weather.status_code == 200:\n",
    "    print(f\"City Weather found.\")\n",
    "else:\n",
    "    print(f\"City weather not found.\")"
   ]
  },
  {
   "cell_type": "markdown",
   "id": "da3f22fe",
   "metadata": {},
   "source": [
    "Parse a Response from an API"
   ]
  },
  {
   "cell_type": "code",
   "execution_count": 42,
   "id": "6235b3e1",
   "metadata": {},
   "outputs": [],
   "source": [
    "# Get the JSON data.\n",
    "boston_data = city_weather.json()"
   ]
  },
  {
   "cell_type": "code",
   "execution_count": 43,
   "id": "4f0bff7a",
   "metadata": {},
   "outputs": [
    {
     "data": {
      "text/plain": [
       "{'type': 2,\n",
       " 'id': 2013408,\n",
       " 'country': 'US',\n",
       " 'sunrise': 1643371304,\n",
       " 'sunset': 1643406746}"
      ]
     },
     "execution_count": 43,
     "metadata": {},
     "output_type": "execute_result"
    }
   ],
   "source": [
    "boston_data[\"sys\"]"
   ]
  },
  {
   "cell_type": "code",
   "execution_count": 44,
   "id": "3f7a3e93",
   "metadata": {},
   "outputs": [
    {
     "data": {
      "text/plain": [
       "'US'"
      ]
     },
     "execution_count": 44,
     "metadata": {},
     "output_type": "execute_result"
    }
   ],
   "source": [
    "boston_data[\"sys\"][\"country\"]"
   ]
  },
  {
   "cell_type": "markdown",
   "id": "3a697aab",
   "metadata": {},
   "source": [
    "When we used boston_data[\"sys\"], there was a key for sunrise and a key for sunset in the output. The value for these keys is the time of day in seconds in a database timestamp format."
   ]
  },
  {
   "cell_type": "code",
   "execution_count": 45,
   "id": "98c353ea",
   "metadata": {},
   "outputs": [
    {
     "data": {
      "text/plain": [
       "1643418987"
      ]
     },
     "execution_count": 45,
     "metadata": {},
     "output_type": "execute_result"
    }
   ],
   "source": [
    "#date\n",
    "boston_data[\"dt\"]"
   ]
  },
  {
   "cell_type": "markdown",
   "id": "74f22a3f",
   "metadata": {},
   "source": [
    "How would you get the latitude value from the Boston JSON data? "
   ]
  },
  {
   "cell_type": "code",
   "execution_count": 46,
   "id": "b742372b",
   "metadata": {},
   "outputs": [
    {
     "data": {
      "text/plain": [
       "42.3584"
      ]
     },
     "execution_count": 46,
     "metadata": {},
     "output_type": "execute_result"
    }
   ],
   "source": [
    "boston_data[\"coord\"][\"lat\"]"
   ]
  },
  {
   "cell_type": "markdown",
   "id": "32872c40",
   "metadata": {},
   "source": [
    "How would you get the maximum temperature value from the Boston JSON data? "
   ]
  },
  {
   "cell_type": "code",
   "execution_count": 47,
   "id": "6f4979c3",
   "metadata": {},
   "outputs": [
    {
     "data": {
      "text/plain": [
       "33.01"
      ]
     },
     "execution_count": 47,
     "metadata": {},
     "output_type": "execute_result"
    }
   ],
   "source": [
    "boston_data[\"main\"][\"temp_max\"]"
   ]
  },
  {
   "cell_type": "markdown",
   "id": "80efcddb",
   "metadata": {},
   "source": [
    "Using similar syntax to get the time of day, we can get the latitude, longitude, maximum temperature, humidity, percent cloudiness, and wind speed."
   ]
  },
  {
   "cell_type": "code",
   "execution_count": 48,
   "id": "3a7bf7ce",
   "metadata": {},
   "outputs": [
    {
     "name": "stdout",
     "output_type": "stream",
     "text": [
      "42.3584 -71.0598 33.01 67 100 5.01\n"
     ]
    }
   ],
   "source": [
    "lat = boston_data[\"coord\"][\"lat\"]\n",
    "lng = boston_data[\"coord\"][\"lon\"]\n",
    "max_temp = boston_data[\"main\"][\"temp_max\"]\n",
    "humidity = boston_data[\"main\"][\"humidity\"]\n",
    "clouds = boston_data[\"clouds\"][\"all\"]\n",
    "wind = boston_data[\"wind\"][\"speed\"]\n",
    "print(lat, lng, max_temp, humidity, clouds, wind)"
   ]
  },
  {
   "cell_type": "markdown",
   "id": "526a7f82",
   "metadata": {},
   "source": [
    "Convert the Date Timestamp"
   ]
  },
  {
   "cell_type": "code",
   "execution_count": 49,
   "id": "42f0f8c4",
   "metadata": {},
   "outputs": [
    {
     "data": {
      "text/plain": [
       "datetime.datetime(2022, 1, 29, 1, 16, 27)"
      ]
     },
     "execution_count": 49,
     "metadata": {},
     "output_type": "execute_result"
    }
   ],
   "source": [
    "# Import the datetime module from the datetime library.\n",
    "from datetime import datetime\n",
    "# Get the date from the JSON file.\n",
    "date = boston_data[\"dt\"]\n",
    "# Convert the UTC date to a date format with year, month, day, hours, minutes, and seconds.\n",
    "datetime.utcfromtimestamp(date)"
   ]
  },
  {
   "cell_type": "code",
   "execution_count": 50,
   "id": "95c7abb0",
   "metadata": {},
   "outputs": [
    {
     "data": {
      "text/plain": [
       "'2022-01-29 01:16:27'"
      ]
     },
     "execution_count": 50,
     "metadata": {},
     "output_type": "execute_result"
    }
   ],
   "source": [
    "datetime.utcfromtimestamp(date).strftime('%Y-%m-%d %H:%M:%S')"
   ]
  },
  {
   "cell_type": "code",
   "execution_count": null,
   "id": "529e5fd2",
   "metadata": {},
   "outputs": [],
   "source": [
    "# Import our dependencies and initialize counters and an empty list that will hold the weather data.\n"
   ]
  },
  {
   "cell_type": "code",
   "execution_count": null,
   "id": "030be23c",
   "metadata": {},
   "outputs": [],
   "source": [
    "# Loop through the cities list.\n"
   ]
  },
  {
   "cell_type": "code",
   "execution_count": null,
   "id": "1900a699",
   "metadata": {},
   "outputs": [],
   "source": [
    "# Group the cities in sets of 50 to log the process as we find the weather data for each city.\n",
    "# Two counters will be needed here: one to log the city count from 1 to 50, and another for the sets.\n"
   ]
  },
  {
   "cell_type": "code",
   "execution_count": null,
   "id": "7b4639ea",
   "metadata": {},
   "outputs": [],
   "source": [
    "# Build the city_url or endpoint for each city.\n"
   ]
  },
  {
   "cell_type": "code",
   "execution_count": null,
   "id": "2cb95295",
   "metadata": {},
   "outputs": [],
   "source": [
    "# Log the URL and the record and set numbers.\n"
   ]
  },
  {
   "cell_type": "code",
   "execution_count": null,
   "id": "3c1ab9f3",
   "metadata": {},
   "outputs": [],
   "source": [
    "# Make an API request for each city.\n"
   ]
  },
  {
   "cell_type": "code",
   "execution_count": null,
   "id": "6341cc70",
   "metadata": {},
   "outputs": [],
   "source": [
    "# Parse the JSON weather data for the following: City, country, and date, Latitude and longitude, Maximum temperature, Humidity, Cloudiness, Wind speed\n"
   ]
  },
  {
   "cell_type": "code",
   "execution_count": null,
   "id": "41c717c8",
   "metadata": {},
   "outputs": [],
   "source": [
    "# Add the data to a list in a dictionary format and then convert the list to a DataFrame.\n"
   ]
  },
  {
   "cell_type": "code",
   "execution_count": null,
   "id": "3f479cdc",
   "metadata": {},
   "outputs": [],
   "source": []
  }
 ],
 "metadata": {
  "kernelspec": {
   "display_name": "Python 3 (ipykernel)",
   "language": "python",
   "name": "python3"
  },
  "language_info": {
   "codemirror_mode": {
    "name": "ipython",
    "version": 3
   },
   "file_extension": ".py",
   "mimetype": "text/x-python",
   "name": "python",
   "nbconvert_exporter": "python",
   "pygments_lexer": "ipython3",
   "version": "3.9.7"
  }
 },
 "nbformat": 4,
 "nbformat_minor": 5
}

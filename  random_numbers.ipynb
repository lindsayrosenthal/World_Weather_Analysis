{
 "cells": [
  {
   "cell_type": "markdown",
   "id": "250f4cdc",
   "metadata": {},
   "source": [
    "#### Generate Random Latitudes and Longitudes"
   ]
  },
  {
   "cell_type": "markdown",
   "id": "cd587163",
   "metadata": {},
   "source": [
    "We'll generate random latitudes and longitudes to ensure coordinates are fairly distributed around the world. "
   ]
  },
  {
   "cell_type": "code",
   "execution_count": 1,
   "id": "ef21e3d8",
   "metadata": {},
   "outputs": [],
   "source": [
    "# Import the random module.\n",
    "import random"
   ]
  },
  {
   "cell_type": "code",
   "execution_count": 2,
   "id": "80477421",
   "metadata": {},
   "outputs": [
    {
     "data": {
      "text/plain": [
       "0.29963936844703287"
      ]
     },
     "execution_count": 2,
     "metadata": {},
     "output_type": "execute_result"
    }
   ],
   "source": [
    "random.random()"
   ]
  },
  {
   "cell_type": "markdown",
   "id": "9cc97ceb",
   "metadata": {},
   "source": [
    "Returns a floating-point decimal number between 0 and 1. - random # with a large number of decimal points. Will not generate a whole integer."
   ]
  },
  {
   "cell_type": "code",
   "execution_count": 6,
   "id": "a96cd449",
   "metadata": {},
   "outputs": [
    {
     "data": {
      "text/plain": [
       "-48"
      ]
     },
     "execution_count": 6,
     "metadata": {},
     "output_type": "execute_result"
    }
   ],
   "source": [
    "random.randint(-90,90)"
   ]
  },
  {
   "cell_type": "markdown",
   "id": "fa16479f",
   "metadata": {},
   "source": [
    "Returns an integer between the interval, -90 and up to 89. Will not generate a floating-point decimal number."
   ]
  },
  {
   "cell_type": "code",
   "execution_count": 11,
   "id": "eeb3b2b6",
   "metadata": {},
   "outputs": [
    {
     "data": {
      "text/plain": [
       "83"
      ]
     },
     "execution_count": 11,
     "metadata": {},
     "output_type": "execute_result"
    }
   ],
   "source": [
    "random.randrange(-90, 90, step=1)"
   ]
  },
  {
   "cell_type": "code",
   "execution_count": 13,
   "id": "2da9881c",
   "metadata": {},
   "outputs": [
    {
     "data": {
      "text/plain": [
       "36"
      ]
     },
     "execution_count": 13,
     "metadata": {},
     "output_type": "execute_result"
    }
   ],
   "source": [
    "random.randrange(-90, 90, step=3)"
   ]
  },
  {
   "cell_type": "markdown",
   "id": "e6492143",
   "metadata": {},
   "source": [
    "Returns an integer that falls in a certain range but are limited by the step method. Takes \"steps\" from the lower to upper boundary to determine the pool of integers to pick at random. Will not generate a floating-point decimal number."
   ]
  },
  {
   "cell_type": "code",
   "execution_count": 12,
   "id": "d8012661",
   "metadata": {},
   "outputs": [
    {
     "data": {
      "text/plain": [
       "-43.655318232293936"
      ]
     },
     "execution_count": 12,
     "metadata": {},
     "output_type": "execute_result"
    }
   ],
   "source": [
    "random.uniform(-90, 90)"
   ]
  },
  {
   "cell_type": "markdown",
   "id": "02380bfd",
   "metadata": {},
   "source": [
    "Returns value within a specified range. The output is not an integer, rather, it is a value with multiple decimal places. You can use the round function to control how many decimal places exist."
   ]
  },
  {
   "cell_type": "markdown",
   "id": "7bd6f3a3",
   "metadata": {},
   "source": [
    "# Project"
   ]
  },
  {
   "cell_type": "markdown",
   "id": "83a0f447",
   "metadata": {},
   "source": [
    "Write algorithm that will generate latitudes between –90 and 89."
   ]
  },
  {
   "cell_type": "code",
   "execution_count": 8,
   "id": "24acb3d6",
   "metadata": {},
   "outputs": [
    {
     "data": {
      "text/plain": [
       "[78.58135475034324,\n",
       " -21.495089202345923,\n",
       " 77.46009860930057,\n",
       " -68.19698632890288,\n",
       " 57.81751662937351,\n",
       " -77.64765934615237,\n",
       " -43.36050439677872,\n",
       " -7.933785730528817,\n",
       " -84.61638794916159,\n",
       " -60.70967833709416]"
      ]
     },
     "execution_count": 8,
     "metadata": {},
     "output_type": "execute_result"
    }
   ],
   "source": [
    "x = 1\n",
    "# Assign the variable x to 1.\n",
    "latitudes = []\n",
    "# Initialize an empty list, latitudes\n",
    "while x < 11:\n",
    "    random_lat = random.randint(-90, 89) + random.random()\n",
    "    latitudes.append(random_lat)\n",
    "# We create a while loop where we generate a random latitude and add it to the list.\n",
    "    x += 1\n",
    "# After the random latitude is added to the list we add one to the variable \"x\".\n",
    "# The while loop condition is checked again and will continue to run as long as x is less than 11.\n",
    "latitudes"
   ]
  },
  {
   "cell_type": "markdown",
   "id": "000f8e31",
   "metadata": {},
   "source": [
    "### The NumPy and random Modules"
   ]
  },
  {
   "cell_type": "code",
   "execution_count": 14,
   "id": "be223532",
   "metadata": {},
   "outputs": [],
   "source": [
    "# Import the NumPy module.\n",
    "import numpy as np"
   ]
  },
  {
   "cell_type": "code",
   "execution_count": 15,
   "id": "16ec0aed",
   "metadata": {},
   "outputs": [
    {
     "data": {
      "text/plain": [
       "66.68448832906245"
      ]
     },
     "execution_count": 15,
     "metadata": {},
     "output_type": "execute_result"
    }
   ],
   "source": [
    "np.random.uniform(-90.000, 90.000)"
   ]
  },
  {
   "cell_type": "markdown",
   "id": "27f85ba3",
   "metadata": {},
   "source": [
    "or"
   ]
  },
  {
   "cell_type": "code",
   "execution_count": 16,
   "id": "27780f8f",
   "metadata": {},
   "outputs": [
    {
     "data": {
      "text/plain": [
       "53.77419388728697"
      ]
     },
     "execution_count": 16,
     "metadata": {},
     "output_type": "execute_result"
    }
   ],
   "source": [
    "np.random.uniform(low=-90, high=90)"
   ]
  },
  {
   "cell_type": "markdown",
   "id": "b32eec67",
   "metadata": {},
   "source": [
    "To generate more than one floating-point decimal number between –90 and 90, we can add the size parameter when we use the NumPy module and set that equal to any whole number."
   ]
  },
  {
   "cell_type": "code",
   "execution_count": 17,
   "id": "6ab8a439",
   "metadata": {},
   "outputs": [
    {
     "data": {
      "text/plain": [
       "array([-28.1567071 ,   2.07336537,  32.9436952 , -55.8394593 ,\n",
       "        14.4528778 ,  61.10375641, -22.92453366, -61.06874833,\n",
       "        46.44317177,  19.28134098,  70.18450463,  83.16755693,\n",
       "         8.42748306, -31.07332549, -81.24936834,  84.69452434,\n",
       "        -2.37562082, -86.92329428,  -9.38146729, -77.1172451 ,\n",
       "        85.85400377,  49.00416454, -72.81754361,  17.19031686,\n",
       "        23.21054946, -22.40633631, -75.72986637,  -2.88811208,\n",
       "       -83.88660771,  -3.50843162, -66.25304882,  79.73617159,\n",
       "       -18.93000221, -54.1596428 ,  53.16175278,  12.46029611,\n",
       "       -59.47508213,  16.00557688,  -4.29434794,  87.05647441,\n",
       "        60.50873309,  79.62852855, -80.18739668,  35.35748882,\n",
       "       -19.63775031, -83.38653822,   8.83227729, -78.60143943,\n",
       "        35.16548069, -83.15194067])"
      ]
     },
     "execution_count": 17,
     "metadata": {},
     "output_type": "execute_result"
    }
   ],
   "source": [
    "np.random.uniform(-90.000, 90.000, size=50)"
   ]
  },
  {
   "cell_type": "markdown",
   "id": "5cce0091",
   "metadata": {},
   "source": [
    "Test if this is faster than creating the while loop:"
   ]
  },
  {
   "cell_type": "code",
   "execution_count": 18,
   "id": "b6aae4ad",
   "metadata": {},
   "outputs": [],
   "source": [
    "# Import timeit.\n",
    "import timeit"
   ]
  },
  {
   "cell_type": "code",
   "execution_count": 19,
   "id": "ec645070",
   "metadata": {},
   "outputs": [
    {
     "name": "stdout",
     "output_type": "stream",
     "text": [
      "13.8 µs ± 248 ns per loop (mean ± std. dev. of 7 runs, 100000 loops each)\n"
     ]
    }
   ],
   "source": [
    "%timeit np.random.uniform(-90.000, 90.000, size=1500)"
   ]
  },
  {
   "cell_type": "code",
   "execution_count": 20,
   "id": "d12072b0",
   "metadata": {},
   "outputs": [
    {
     "name": "stdout",
     "output_type": "stream",
     "text": [
      "1.4 ms ± 27.8 µs per loop (mean ± std. dev. of 7 runs, 1000 loops each)\n"
     ]
    }
   ],
   "source": [
    "def latitudes(size):\n",
    "    latitudes = []\n",
    "    x = 0\n",
    "    while x < (size):\n",
    "        random_lat = random.randint(-90, 90) + random.random()\n",
    "        latitudes.append(random_lat)\n",
    "        x += 1\n",
    "    return latitudes\n",
    "# Call the function with 1500.\n",
    "%timeit latitudes(1500)"
   ]
  },
  {
   "cell_type": "markdown",
   "id": "392bbae5",
   "metadata": {},
   "source": [
    "Using the np.random.uniform(-90.000, 90.000, size=1500) is 100 times faster than using the function, and our code is one line, whereas the function uses eight lines"
   ]
  },
  {
   "cell_type": "code",
   "execution_count": null,
   "id": "3496b432",
   "metadata": {},
   "outputs": [],
   "source": []
  }
 ],
 "metadata": {
  "kernelspec": {
   "display_name": "Python 3 (ipykernel)",
   "language": "python",
   "name": "python3"
  },
  "language_info": {
   "codemirror_mode": {
    "name": "ipython",
    "version": 3
   },
   "file_extension": ".py",
   "mimetype": "text/x-python",
   "name": "python",
   "nbconvert_exporter": "python",
   "pygments_lexer": "ipython3",
   "version": "3.9.7"
  }
 },
 "nbformat": 4,
 "nbformat_minor": 5
}
